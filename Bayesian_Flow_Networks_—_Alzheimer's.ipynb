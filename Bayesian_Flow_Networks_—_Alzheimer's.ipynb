{
  "nbformat": 4,
  "nbformat_minor": 0,
  "metadata": {
    "colab": {
      "provenance": [],
      "gpuType": "T4",
      "authorship_tag": "ABX9TyMiakyznkm1r16+X9ODa4z2"
    },
    "kernelspec": {
      "name": "python3",
      "display_name": "Python 3"
    },
    "language_info": {
      "name": "python"
    },
    "accelerator": "GPU"
  },
  "cells": [
    {
      "cell_type": "code",
      "source": [
        "!pip install rdkit-pypi"
      ],
      "metadata": {
        "colab": {
          "base_uri": "https://localhost:8080/"
        },
        "id": "vjbbHeKs-X4k",
        "outputId": "515cabd5-26e9-477f-ef10-ef824ae0487d"
      },
      "execution_count": null,
      "outputs": [
        {
          "output_type": "stream",
          "name": "stdout",
          "text": [
            "Collecting rdkit-pypi\n",
            "  Downloading rdkit_pypi-2022.9.5-cp310-cp310-manylinux_2_17_x86_64.manylinux2014_x86_64.whl (29.4 MB)\n",
            "\u001b[2K     \u001b[90m━━━━━━━━━━━━━━━━━━━━━━━━━━━━━━━━━━━━━━━━\u001b[0m \u001b[32m29.4/29.4 MB\u001b[0m \u001b[31m23.0 MB/s\u001b[0m eta \u001b[36m0:00:00\u001b[0m\n",
            "\u001b[?25hRequirement already satisfied: numpy in /usr/local/lib/python3.10/dist-packages (from rdkit-pypi) (1.23.5)\n",
            "Requirement already satisfied: Pillow in /usr/local/lib/python3.10/dist-packages (from rdkit-pypi) (9.4.0)\n",
            "Installing collected packages: rdkit-pypi\n",
            "Successfully installed rdkit-pypi-2022.9.5\n"
          ]
        }
      ]
    },
    {
      "cell_type": "code",
      "source": [
        "import pandas as pd\n",
        "from rdkit import Chem\n",
        "from rdkit.Chem import AllChem\n",
        "import requests"
      ],
      "metadata": {
        "id": "0vWS2znjCkzc"
      },
      "execution_count": null,
      "outputs": []
    },
    {
      "cell_type": "code",
      "source": [
        "gamma_secretase_inhibitors = [\n",
        "    \"CC(C)[C@H](O)C(=O)N[C@@H](C)C(=O)N[C@@H]1C(=O)N(C)CCc2ccccc21\", \"CC(C)[C@H](O)C(=O)N[C@@H](C)C(=O)N[C@@H]1C(=O)N(C)CCc2ccccc21\", \"CCC[C@H](N[C@H]1CCc2cc(F)cc(F)c2C1)C(=O)Nc1cn(C(C)(C)CNCC(C)(C)C)cn1\", \"CC(C)(C(=O)NCC(F)(F)C(F)(F)F)C(=O)N[C@@H]1C(=O)Nc2ccccc2-c2ccccc21\", \"NC(=O)[C@@H](CCC(F)(F)F)N(Cc1ccc(-c2ncon2)cc1F)S(=O)(=O)c1ccc(Cl)cc1\", \"O=S(=O)(N[C@H](CO)C(C(F)(F)F)C(F)(F)F)c1ccc(Cl)s1\"\n",
        "]"
      ],
      "metadata": {
        "id": "rZOhBwctCwyr"
      },
      "execution_count": null,
      "outputs": []
    },
    {
      "cell_type": "code",
      "source": [
        "import rdkit\n",
        "from rdkit import Chem\n",
        "from rdkit.Chem import AllChem\n",
        "\n",
        "# Assuming 'gamma_secretase_inhibitors' contains the correct SMILES strings\n",
        "fingerprints = [AllChem.GetMorganFingerprintAsBitVect(Chem.MolFromSmiles(smiles), radius=2, nBits=2048) for smiles in gamma_secretase_inhibitors]\n",
        "\n",
        "# Convert the fingerprints to bit strings for easier use in machine learning models\n",
        "fingerprints_bit_strings = [fp.ToBitString() for fp in fingerprints]\n",
        "\n",
        "# Create a DataFrame\n",
        "df_gamma_secretase = pd.DataFrame({\n",
        "    'SMILES': gamma_secretase_inhibitors,\n",
        "    'Fingerprint': fingerprints_bit_strings\n",
        "})\n",
        "\n",
        "print(df_gamma_secretase.head())"
      ],
      "metadata": {
        "colab": {
          "base_uri": "https://localhost:8080/"
        },
        "id": "uRvf9-NfEimQ",
        "outputId": "56b2c173-4be1-4f1a-9f0c-f0121a2b0e42"
      },
      "execution_count": null,
      "outputs": [
        {
          "output_type": "stream",
          "name": "stdout",
          "text": [
            "                                              SMILES  \\\n",
            "0  CC(C)[C@H](O)C(=O)N[C@@H](C)C(=O)N[C@@H]1C(=O)...   \n",
            "1  CC(C)[C@H](O)C(=O)N[C@@H](C)C(=O)N[C@@H]1C(=O)...   \n",
            "2  CCC[C@H](N[C@H]1CCc2cc(F)cc(F)c2C1)C(=O)Nc1cn(...   \n",
            "3  CC(C)(C(=O)NCC(F)(F)C(F)(F)F)C(=O)N[C@@H]1C(=O...   \n",
            "4  NC(=O)[C@@H](CCC(F)(F)F)N(Cc1ccc(-c2ncon2)cc1F...   \n",
            "\n",
            "                                         Fingerprint  \n",
            "0  0100010000000000000000000000000000000000000000...  \n",
            "1  0100010000000000000000000000000000000000000000...  \n",
            "2  0100000000000000001000000001000000000000000000...  \n",
            "3  0000000100000000000000000000000000000010000000...  \n",
            "4  0100000000010000000000000000000000000000000000...  \n"
          ]
        }
      ]
    },
    {
      "cell_type": "code",
      "source": [
        "from chembl_webresource_client.new_client import new_client\n",
        "\n",
        "# Initialize the ChEMBL client\n",
        "activities = new_client.activity\n",
        "\n",
        "chembl_id = [\"CHEMBL190083\", \"CHEMBL520733\", \"CHEMBL1770916\", \"CHEMBL4297422\", \"CHEMBL1090771\", \"CHEMBL463981\"]\n",
        "\n",
        "# Fetch the IC50 values for each SMILES string\n",
        "ic50_values = []\n",
        "for chembl in chembl_id:\n",
        "   response = activities.filter(molecule_chembl_id=chembl, standard_type='IC50')\n",
        "   ic50_values.append([result['standard_value'] for result in response])\n",
        "\n",
        "# Add the IC50 values to the DataFrame\n",
        "df_gamma_secretase['IC50'] = ic50_values\n",
        "\n",
        "print(df_gamma_secretase.head())\n"
      ],
      "metadata": {
        "colab": {
          "base_uri": "https://localhost:8080/"
        },
        "id": "qhZT2tAHEvLt",
        "outputId": "4834bade-9b2d-4e45-ff12-6291902a5286"
      },
      "execution_count": null,
      "outputs": [
        {
          "output_type": "stream",
          "name": "stdout",
          "text": [
            "                                              SMILES  \\\n",
            "0  CC(C)[C@H](O)C(=O)N[C@@H](C)C(=O)N[C@@H]1C(=O)...   \n",
            "1  CC(C)[C@H](O)C(=O)N[C@@H](C)C(=O)N[C@@H]1C(=O)...   \n",
            "2  CCC[C@H](N[C@H]1CCc2cc(F)cc(F)c2C1)C(=O)Nc1cn(...   \n",
            "3  CC(C)(C(=O)NCC(F)(F)C(F)(F)F)C(=O)N[C@@H]1C(=O...   \n",
            "4  NC(=O)[C@@H](CCC(F)(F)F)N(Cc1ccc(-c2ncon2)cc1F...   \n",
            "\n",
            "                                         Fingerprint  \\\n",
            "0  0100010000000000000000000000000000000000000000...   \n",
            "1  0100010000000000000000000000000000000000000000...   \n",
            "2  0100000000000000001000000001000000000000000000...   \n",
            "3  0000000100000000000000000000000000000010000000...   \n",
            "4  0100000000010000000000000000000000000000000000...   \n",
            "\n",
            "                                                IC50  \n",
            "0  [280000.0, 44000.0, 123000.0, 44000.0, 250000....  \n",
            "1  [39.81, 39.81, 316.23, 125.89, 199.53, 100.0, ...  \n",
            "2                        [1.2, 6.2, 1.3, 19.15, 6.2]  \n",
            "3                           [4.0, 20000.0, 19952.62]  \n",
            "4  [0.3, 0.225, 0.3, 38227.84, 514324.3, 71671.85...  \n"
          ]
        }
      ]
    },
    {
      "cell_type": "markdown",
      "source": [
        "Data Collection Done || Now Preprocessing"
      ],
      "metadata": {
        "id": "HymAA0FBzIR6"
      }
    }
  ]
}